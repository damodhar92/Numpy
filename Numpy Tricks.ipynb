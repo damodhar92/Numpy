{
 "cells": [
  {
   "cell_type": "markdown",
   "id": "6e228f4d",
   "metadata": {},
   "source": [
    "#### np.sort"
   ]
  },
  {
   "cell_type": "code",
   "execution_count": 1,
   "id": "4f615a99",
   "metadata": {},
   "outputs": [],
   "source": [
    "import numpy as np"
   ]
  },
  {
   "cell_type": "code",
   "execution_count": 2,
   "id": "2a89c425",
   "metadata": {},
   "outputs": [
    {
     "data": {
      "text/plain": [
       "array([41, 17, 93, 10, 72,  8, 47, 71, 50, 41])"
      ]
     },
     "execution_count": 2,
     "metadata": {},
     "output_type": "execute_result"
    }
   ],
   "source": [
    "a=np.random.randint(1,100,10)\n",
    "a"
   ]
  },
  {
   "cell_type": "code",
   "execution_count": 3,
   "id": "e1b8fb6d",
   "metadata": {},
   "outputs": [
    {
     "data": {
      "text/plain": [
       "array([[90, 81, 70, 22],\n",
       "       [ 1, 14, 86, 34],\n",
       "       [28, 45, 89, 40],\n",
       "       [10, 29, 48, 83],\n",
       "       [58, 71,  1,  3],\n",
       "       [ 6, 42, 65, 78]])"
      ]
     },
     "execution_count": 3,
     "metadata": {},
     "output_type": "execute_result"
    }
   ],
   "source": [
    "b=np.random.randint(1,100,24).reshape(6,4)\n",
    "b"
   ]
  },
  {
   "cell_type": "code",
   "execution_count": 4,
   "id": "8d839619",
   "metadata": {},
   "outputs": [
    {
     "data": {
      "text/plain": [
       "array([ 8, 10, 17, 41, 41, 47, 50, 71, 72, 93])"
      ]
     },
     "execution_count": 4,
     "metadata": {},
     "output_type": "execute_result"
    }
   ],
   "source": [
    "np.sort(a)"
   ]
  },
  {
   "cell_type": "code",
   "execution_count": 5,
   "id": "cddf8582",
   "metadata": {},
   "outputs": [
    {
     "data": {
      "text/plain": [
       "array([93, 72, 71, 50, 47, 41, 41, 17, 10,  8])"
      ]
     },
     "execution_count": 5,
     "metadata": {},
     "output_type": "execute_result"
    }
   ],
   "source": [
    "#Reverse Sort\n",
    "np.sort(a)[::-1]"
   ]
  },
  {
   "cell_type": "code",
   "execution_count": 6,
   "id": "216e33a1",
   "metadata": {},
   "outputs": [
    {
     "data": {
      "text/plain": [
       "array([[22, 70, 81, 90],\n",
       "       [ 1, 14, 34, 86],\n",
       "       [28, 40, 45, 89],\n",
       "       [10, 29, 48, 83],\n",
       "       [ 1,  3, 58, 71],\n",
       "       [ 6, 42, 65, 78]])"
      ]
     },
     "execution_count": 6,
     "metadata": {},
     "output_type": "execute_result"
    }
   ],
   "source": [
    "np.sort(b)"
   ]
  },
  {
   "cell_type": "code",
   "execution_count": 7,
   "id": "50af1726",
   "metadata": {},
   "outputs": [
    {
     "data": {
      "text/plain": [
       "array([[ 1, 14,  1,  3],\n",
       "       [ 6, 29, 48, 22],\n",
       "       [10, 42, 65, 34],\n",
       "       [28, 45, 70, 40],\n",
       "       [58, 71, 86, 78],\n",
       "       [90, 81, 89, 83]])"
      ]
     },
     "execution_count": 7,
     "metadata": {},
     "output_type": "execute_result"
    }
   ],
   "source": [
    "#column wise sorting\n",
    "np.sort(b,axis=0)"
   ]
  },
  {
   "cell_type": "markdown",
   "id": "7813b58f",
   "metadata": {},
   "source": [
    "#### np.upend"
   ]
  },
  {
   "cell_type": "code",
   "execution_count": 8,
   "id": "ccd4cf48",
   "metadata": {},
   "outputs": [
    {
     "data": {
      "text/plain": [
       "array([ 41,  17,  93,  10,  72,   8,  47,  71,  50,  41, 200])"
      ]
     },
     "execution_count": 8,
     "metadata": {},
     "output_type": "execute_result"
    }
   ],
   "source": [
    "np.append(a,200)"
   ]
  },
  {
   "cell_type": "code",
   "execution_count": 9,
   "id": "052a3d4d",
   "metadata": {},
   "outputs": [],
   "source": [
    "#inserting one new column in 2D array"
   ]
  },
  {
   "cell_type": "code",
   "execution_count": 10,
   "id": "f7f2adde",
   "metadata": {},
   "outputs": [
    {
     "data": {
      "text/plain": [
       "array([[9.00000000e+01, 8.10000000e+01, 7.00000000e+01, 2.20000000e+01,\n",
       "        3.04024405e-01],\n",
       "       [1.00000000e+00, 1.40000000e+01, 8.60000000e+01, 3.40000000e+01,\n",
       "        3.49624784e-01],\n",
       "       [2.80000000e+01, 4.50000000e+01, 8.90000000e+01, 4.00000000e+01,\n",
       "        2.05229946e-01],\n",
       "       [1.00000000e+01, 2.90000000e+01, 4.80000000e+01, 8.30000000e+01,\n",
       "        3.66981599e-02],\n",
       "       [5.80000000e+01, 7.10000000e+01, 1.00000000e+00, 3.00000000e+00,\n",
       "        7.31720810e-01],\n",
       "       [6.00000000e+00, 4.20000000e+01, 6.50000000e+01, 7.80000000e+01,\n",
       "        3.49157876e-01]])"
      ]
     },
     "execution_count": 10,
     "metadata": {},
     "output_type": "execute_result"
    }
   ],
   "source": [
    "np.append(b,np.random.random((b.shape[0],1)),axis=1)"
   ]
  },
  {
   "cell_type": "code",
   "execution_count": 11,
   "id": "2b2e137f",
   "metadata": {},
   "outputs": [
    {
     "data": {
      "text/plain": [
       "array([[90., 81., 70., 22.,  1.],\n",
       "       [ 1., 14., 86., 34.,  1.],\n",
       "       [28., 45., 89., 40.,  1.],\n",
       "       [10., 29., 48., 83.,  1.],\n",
       "       [58., 71.,  1.,  3.,  1.],\n",
       "       [ 6., 42., 65., 78.,  1.]])"
      ]
     },
     "execution_count": 11,
     "metadata": {},
     "output_type": "execute_result"
    }
   ],
   "source": [
    "np.append(b,np.ones((b.shape[0],1)),axis=1)"
   ]
  },
  {
   "cell_type": "markdown",
   "id": "b9af7e0d",
   "metadata": {},
   "source": [
    "#### np.concatenate"
   ]
  },
  {
   "cell_type": "code",
   "execution_count": 12,
   "id": "3a9ff45e",
   "metadata": {},
   "outputs": [
    {
     "name": "stdout",
     "output_type": "stream",
     "text": [
      "[[0 1 2]\n",
      " [3 4 5]]\n",
      "[[ 6  7  8]\n",
      " [ 9 10 11]]\n"
     ]
    }
   ],
   "source": [
    "c=np.arange(6).reshape(2,3)\n",
    "d=np.arange(6,12).reshape(2,3)\n",
    "print(c)\n",
    "print(d)"
   ]
  },
  {
   "cell_type": "code",
   "execution_count": 13,
   "id": "25c01b4f",
   "metadata": {},
   "outputs": [
    {
     "data": {
      "text/plain": [
       "array([[ 0,  1,  2,  6,  7,  8],\n",
       "       [ 3,  4,  5,  9, 10, 11]])"
      ]
     },
     "execution_count": 13,
     "metadata": {},
     "output_type": "execute_result"
    }
   ],
   "source": [
    "np.concatenate((c,d),axis=1)"
   ]
  },
  {
   "cell_type": "code",
   "execution_count": 14,
   "id": "1cf8351e",
   "metadata": {},
   "outputs": [
    {
     "data": {
      "text/plain": [
       "array([[ 0,  1,  2],\n",
       "       [ 3,  4,  5],\n",
       "       [ 6,  7,  8],\n",
       "       [ 9, 10, 11]])"
      ]
     },
     "execution_count": 14,
     "metadata": {},
     "output_type": "execute_result"
    }
   ],
   "source": [
    "np.concatenate((c,d),axis=0)"
   ]
  },
  {
   "cell_type": "markdown",
   "id": "4bf3aa5c",
   "metadata": {},
   "source": [
    "#### np.unique"
   ]
  },
  {
   "cell_type": "code",
   "execution_count": 15,
   "id": "8ea7ebf9",
   "metadata": {},
   "outputs": [],
   "source": [
    "e=np.array([1,1,2,2,3,3,4,4,5,5,6,6])"
   ]
  },
  {
   "cell_type": "code",
   "execution_count": 16,
   "id": "b019d516",
   "metadata": {},
   "outputs": [
    {
     "data": {
      "text/plain": [
       "array([1, 2, 3, 4, 5, 6])"
      ]
     },
     "execution_count": 16,
     "metadata": {},
     "output_type": "execute_result"
    }
   ],
   "source": [
    "np.unique(e)"
   ]
  },
  {
   "cell_type": "markdown",
   "id": "0d37a34f",
   "metadata": {},
   "source": [
    "#### np.expand_dims"
   ]
  },
  {
   "cell_type": "code",
   "execution_count": 17,
   "id": "256dd753",
   "metadata": {},
   "outputs": [],
   "source": [
    "#we can get the expanded dimensions of an array"
   ]
  },
  {
   "cell_type": "code",
   "execution_count": 18,
   "id": "4440278f",
   "metadata": {},
   "outputs": [
    {
     "data": {
      "text/plain": [
       "array([41, 17, 93, 10, 72,  8, 47, 71, 50, 41])"
      ]
     },
     "execution_count": 18,
     "metadata": {},
     "output_type": "execute_result"
    }
   ],
   "source": [
    "a"
   ]
  },
  {
   "cell_type": "code",
   "execution_count": 19,
   "id": "2de382d9",
   "metadata": {},
   "outputs": [
    {
     "data": {
      "text/plain": [
       "(10,)"
      ]
     },
     "execution_count": 19,
     "metadata": {},
     "output_type": "execute_result"
    }
   ],
   "source": [
    "a.shape"
   ]
  },
  {
   "cell_type": "code",
   "execution_count": 20,
   "id": "fd6d58eb",
   "metadata": {},
   "outputs": [
    {
     "data": {
      "text/plain": [
       "array([[41, 17, 93, 10, 72,  8, 47, 71, 50, 41]])"
      ]
     },
     "execution_count": 20,
     "metadata": {},
     "output_type": "execute_result"
    }
   ],
   "source": [
    "np.expand_dims(a,axis=0)"
   ]
  },
  {
   "cell_type": "code",
   "execution_count": 21,
   "id": "e093ed57",
   "metadata": {},
   "outputs": [
    {
     "data": {
      "text/plain": [
       "(1, 10)"
      ]
     },
     "execution_count": 21,
     "metadata": {},
     "output_type": "execute_result"
    }
   ],
   "source": [
    "np.expand_dims(a,axis=0).shape"
   ]
  },
  {
   "cell_type": "code",
   "execution_count": 22,
   "id": "6c30f7f0",
   "metadata": {},
   "outputs": [
    {
     "data": {
      "text/plain": [
       "array([[41],\n",
       "       [17],\n",
       "       [93],\n",
       "       [10],\n",
       "       [72],\n",
       "       [ 8],\n",
       "       [47],\n",
       "       [71],\n",
       "       [50],\n",
       "       [41]])"
      ]
     },
     "execution_count": 22,
     "metadata": {},
     "output_type": "execute_result"
    }
   ],
   "source": [
    "np.expand_dims(a,axis=1)"
   ]
  },
  {
   "cell_type": "code",
   "execution_count": 23,
   "id": "c4747c0c",
   "metadata": {},
   "outputs": [
    {
     "data": {
      "text/plain": [
       "(10, 1)"
      ]
     },
     "execution_count": 23,
     "metadata": {},
     "output_type": "execute_result"
    }
   ],
   "source": [
    "np.expand_dims(a,axis=1).shape"
   ]
  },
  {
   "cell_type": "markdown",
   "id": "90400965",
   "metadata": {},
   "source": [
    "#### np.where"
   ]
  },
  {
   "cell_type": "raw",
   "id": "e26737c8",
   "metadata": {},
   "source": [
    "Function returns the indices of elements in an input array where the given condition is satisfied\n"
   ]
  },
  {
   "cell_type": "code",
   "execution_count": 24,
   "id": "2cc8767c",
   "metadata": {},
   "outputs": [
    {
     "data": {
      "text/plain": [
       "array([41, 17, 93, 10, 72,  8, 47, 71, 50, 41])"
      ]
     },
     "execution_count": 24,
     "metadata": {},
     "output_type": "execute_result"
    }
   ],
   "source": [
    "a"
   ]
  },
  {
   "cell_type": "code",
   "execution_count": 25,
   "id": "c8022408",
   "metadata": {},
   "outputs": [],
   "source": [
    "#find all indices with value greater than 50"
   ]
  },
  {
   "cell_type": "code",
   "execution_count": 26,
   "id": "99ce057b",
   "metadata": {},
   "outputs": [
    {
     "data": {
      "text/plain": [
       "(array([2, 4, 7], dtype=int64),)"
      ]
     },
     "execution_count": 26,
     "metadata": {},
     "output_type": "execute_result"
    }
   ],
   "source": [
    "np.where(a>50)"
   ]
  },
  {
   "cell_type": "code",
   "execution_count": 27,
   "id": "c64b7e0a",
   "metadata": {},
   "outputs": [],
   "source": [
    "# 0,2,4,7,9 these are index positions"
   ]
  },
  {
   "cell_type": "code",
   "execution_count": 28,
   "id": "43a0506f",
   "metadata": {},
   "outputs": [
    {
     "data": {
      "text/plain": [
       "array([41, 17,  0, 10,  0,  8, 47,  0, 50, 41])"
      ]
     },
     "execution_count": 28,
     "metadata": {},
     "output_type": "execute_result"
    }
   ],
   "source": [
    "np.where(a>50,0,a)\n",
    "#(condition, True,False)"
   ]
  },
  {
   "cell_type": "code",
   "execution_count": 29,
   "id": "da03fbc2",
   "metadata": {},
   "outputs": [
    {
     "data": {
      "text/plain": [
       "array([41, 17, 93,  0,  0,  0, 47, 71,  0, 41])"
      ]
     },
     "execution_count": 29,
     "metadata": {},
     "output_type": "execute_result"
    }
   ],
   "source": [
    "np.where(a%2==0,0,a)"
   ]
  },
  {
   "cell_type": "markdown",
   "id": "d253bf71",
   "metadata": {},
   "source": [
    "### np.argmax"
   ]
  },
  {
   "cell_type": "raw",
   "id": "cfe36e6f",
   "metadata": {},
   "source": [
    "# function returns the indices of the max element of the array in a particular axis"
   ]
  },
  {
   "cell_type": "code",
   "execution_count": 30,
   "id": "15bdb884",
   "metadata": {},
   "outputs": [
    {
     "data": {
      "text/plain": [
       "array([41, 17, 93, 10, 72,  8, 47, 71, 50, 41])"
      ]
     },
     "execution_count": 30,
     "metadata": {},
     "output_type": "execute_result"
    }
   ],
   "source": [
    "a"
   ]
  },
  {
   "cell_type": "code",
   "execution_count": 31,
   "id": "8b57a550",
   "metadata": {},
   "outputs": [
    {
     "data": {
      "text/plain": [
       "2"
      ]
     },
     "execution_count": 31,
     "metadata": {},
     "output_type": "execute_result"
    }
   ],
   "source": [
    "np.argmax(a)"
   ]
  },
  {
   "cell_type": "code",
   "execution_count": 32,
   "id": "37124822",
   "metadata": {},
   "outputs": [],
   "source": [
    "#max value is 93 and index position is 2"
   ]
  },
  {
   "cell_type": "code",
   "execution_count": 33,
   "id": "7f179368",
   "metadata": {},
   "outputs": [
    {
     "data": {
      "text/plain": [
       "array([[90, 81, 70, 22],\n",
       "       [ 1, 14, 86, 34],\n",
       "       [28, 45, 89, 40],\n",
       "       [10, 29, 48, 83],\n",
       "       [58, 71,  1,  3],\n",
       "       [ 6, 42, 65, 78]])"
      ]
     },
     "execution_count": 33,
     "metadata": {},
     "output_type": "execute_result"
    }
   ],
   "source": [
    "b"
   ]
  },
  {
   "cell_type": "code",
   "execution_count": 34,
   "id": "80d4a5b8",
   "metadata": {},
   "outputs": [
    {
     "data": {
      "text/plain": [
       "array([0, 2, 2, 3, 1, 3], dtype=int64)"
      ]
     },
     "execution_count": 34,
     "metadata": {},
     "output_type": "execute_result"
    }
   ],
   "source": [
    "np.argmax(b,axis=1)\n",
    "#it will return the row wise max value position of a index number "
   ]
  },
  {
   "cell_type": "code",
   "execution_count": 36,
   "id": "e876fe34",
   "metadata": {},
   "outputs": [
    {
     "data": {
      "text/plain": [
       "array([0, 0, 2, 3], dtype=int64)"
      ]
     },
     "execution_count": 36,
     "metadata": {},
     "output_type": "execute_result"
    }
   ],
   "source": [
    "np.argmax(b,axis=0)\n",
    "#it will return the column wise max value position of a index number "
   ]
  },
  {
   "cell_type": "markdown",
   "id": "cb27f27e",
   "metadata": {},
   "source": [
    "### np.argmin"
   ]
  },
  {
   "cell_type": "code",
   "execution_count": 38,
   "id": "df9b79e9",
   "metadata": {},
   "outputs": [
    {
     "data": {
      "text/plain": [
       "array([41, 17, 93, 10, 72,  8, 47, 71, 50, 41])"
      ]
     },
     "execution_count": 38,
     "metadata": {},
     "output_type": "execute_result"
    }
   ],
   "source": [
    "a"
   ]
  },
  {
   "cell_type": "code",
   "execution_count": 39,
   "id": "7a71b215",
   "metadata": {},
   "outputs": [
    {
     "data": {
      "text/plain": [
       "5"
      ]
     },
     "execution_count": 39,
     "metadata": {},
     "output_type": "execute_result"
    }
   ],
   "source": [
    "np.argmin(a)"
   ]
  },
  {
   "cell_type": "code",
   "execution_count": 40,
   "id": "3be868a8",
   "metadata": {},
   "outputs": [
    {
     "data": {
      "text/plain": [
       "array([[90, 81, 70, 22],\n",
       "       [ 1, 14, 86, 34],\n",
       "       [28, 45, 89, 40],\n",
       "       [10, 29, 48, 83],\n",
       "       [58, 71,  1,  3],\n",
       "       [ 6, 42, 65, 78]])"
      ]
     },
     "execution_count": 40,
     "metadata": {},
     "output_type": "execute_result"
    }
   ],
   "source": [
    "b"
   ]
  },
  {
   "cell_type": "code",
   "execution_count": 41,
   "id": "4fcb25f8",
   "metadata": {},
   "outputs": [
    {
     "data": {
      "text/plain": [
       "array([1, 1, 4, 4], dtype=int64)"
      ]
     },
     "execution_count": 41,
     "metadata": {},
     "output_type": "execute_result"
    }
   ],
   "source": [
    "np.argmin(b,axis=0) # column wise"
   ]
  },
  {
   "cell_type": "code",
   "execution_count": 42,
   "id": "ba2a2ea4",
   "metadata": {},
   "outputs": [
    {
     "data": {
      "text/plain": [
       "array([3, 0, 0, 0, 2, 0], dtype=int64)"
      ]
     },
     "execution_count": 42,
     "metadata": {},
     "output_type": "execute_result"
    }
   ],
   "source": [
    "np.argmin(b,axis=1) #row wise"
   ]
  },
  {
   "cell_type": "markdown",
   "id": "b26b347c",
   "metadata": {},
   "source": [
    "### np.cumsum"
   ]
  },
  {
   "cell_type": "raw",
   "id": "fdc9b8f3",
   "metadata": {},
   "source": [
    "function is used when we want to compute the cumulative \n",
    "sum of array element over a given axis"
   ]
  },
  {
   "cell_type": "code",
   "execution_count": 43,
   "id": "f5721404",
   "metadata": {},
   "outputs": [
    {
     "data": {
      "text/plain": [
       "array([41, 17, 93, 10, 72,  8, 47, 71, 50, 41])"
      ]
     },
     "execution_count": 43,
     "metadata": {},
     "output_type": "execute_result"
    }
   ],
   "source": [
    "a"
   ]
  },
  {
   "cell_type": "code",
   "execution_count": 44,
   "id": "6861fc97",
   "metadata": {},
   "outputs": [
    {
     "data": {
      "text/plain": [
       "array([ 41,  58, 151, 161, 233, 241, 288, 359, 409, 450], dtype=int32)"
      ]
     },
     "execution_count": 44,
     "metadata": {},
     "output_type": "execute_result"
    }
   ],
   "source": [
    "np.cumsum(a)"
   ]
  },
  {
   "cell_type": "code",
   "execution_count": 45,
   "id": "0c53ec12",
   "metadata": {},
   "outputs": [
    {
     "data": {
      "text/plain": [
       "array([[90, 81, 70, 22],\n",
       "       [ 1, 14, 86, 34],\n",
       "       [28, 45, 89, 40],\n",
       "       [10, 29, 48, 83],\n",
       "       [58, 71,  1,  3],\n",
       "       [ 6, 42, 65, 78]])"
      ]
     },
     "execution_count": 45,
     "metadata": {},
     "output_type": "execute_result"
    }
   ],
   "source": [
    "b"
   ]
  },
  {
   "cell_type": "code",
   "execution_count": 51,
   "id": "0f9bd5a5",
   "metadata": {},
   "outputs": [
    {
     "data": {
      "text/plain": [
       "array([  90,  171,  241,  263,  264,  278,  364,  398,  426,  471,  560,\n",
       "        600,  610,  639,  687,  770,  828,  899,  900,  903,  909,  951,\n",
       "       1016, 1094], dtype=int32)"
      ]
     },
     "execution_count": 51,
     "metadata": {},
     "output_type": "execute_result"
    }
   ],
   "source": [
    "np.cumsum(b)"
   ]
  },
  {
   "cell_type": "code",
   "execution_count": 47,
   "id": "e95c1537",
   "metadata": {},
   "outputs": [
    {
     "data": {
      "text/plain": [
       "array([[ 90, 171, 241, 263],\n",
       "       [  1,  15, 101, 135],\n",
       "       [ 28,  73, 162, 202],\n",
       "       [ 10,  39,  87, 170],\n",
       "       [ 58, 129, 130, 133],\n",
       "       [  6,  48, 113, 191]], dtype=int32)"
      ]
     },
     "execution_count": 47,
     "metadata": {},
     "output_type": "execute_result"
    }
   ],
   "source": [
    "np.cumsum(b,axis=1)\n",
    "#cumsum along the row "
   ]
  },
  {
   "cell_type": "code",
   "execution_count": 49,
   "id": "a43c2392",
   "metadata": {},
   "outputs": [
    {
     "data": {
      "text/plain": [
       "array([[ 90,  81,  70,  22],\n",
       "       [ 91,  95, 156,  56],\n",
       "       [119, 140, 245,  96],\n",
       "       [129, 169, 293, 179],\n",
       "       [187, 240, 294, 182],\n",
       "       [193, 282, 359, 260]], dtype=int32)"
      ]
     },
     "execution_count": 49,
     "metadata": {},
     "output_type": "execute_result"
    }
   ],
   "source": [
    "np.cumsum(b,axis=0)\n",
    "#cum sum along the column "
   ]
  },
  {
   "cell_type": "markdown",
   "id": "3d23ec17",
   "metadata": {},
   "source": [
    "### np.cumprod"
   ]
  },
  {
   "cell_type": "code",
   "execution_count": 52,
   "id": "016455fc",
   "metadata": {},
   "outputs": [
    {
     "data": {
      "text/plain": [
       "array([         41,         697,       64821,      648210,    46671120,\n",
       "         373368960,   368471936,   391703680, -1889652480,  -166340352],\n",
       "      dtype=int32)"
      ]
     },
     "execution_count": 52,
     "metadata": {},
     "output_type": "execute_result"
    }
   ],
   "source": [
    "np.cumprod(a)"
   ]
  },
  {
   "cell_type": "code",
   "execution_count": 53,
   "id": "0d40371f",
   "metadata": {},
   "outputs": [
    {
     "data": {
      "text/plain": [
       "array([[90, 81, 70, 22],\n",
       "       [ 1, 14, 86, 34],\n",
       "       [28, 45, 89, 40],\n",
       "       [10, 29, 48, 83],\n",
       "       [58, 71,  1,  3],\n",
       "       [ 6, 42, 65, 78]])"
      ]
     },
     "execution_count": 53,
     "metadata": {},
     "output_type": "execute_result"
    }
   ],
   "source": [
    "b"
   ]
  },
  {
   "cell_type": "code",
   "execution_count": 55,
   "id": "a1550035",
   "metadata": {},
   "outputs": [
    {
     "data": {
      "text/plain": [
       "array([[        90,         81,         70,         22],\n",
       "       [        90,       1134,       6020,        748],\n",
       "       [      2520,      51030,     535780,      29920],\n",
       "       [     25200,    1479870,   25717440,    2483360],\n",
       "       [   1461600,  105070770,   25717440,    7450080],\n",
       "       [   8769600,  118005044, 1671633600,  581106240]], dtype=int32)"
      ]
     },
     "execution_count": 55,
     "metadata": {},
     "output_type": "execute_result"
    }
   ],
   "source": [
    "np.cumprod(b,axis=0)"
   ]
  },
  {
   "cell_type": "code",
   "execution_count": 56,
   "id": "8f39d8f8",
   "metadata": {},
   "outputs": [
    {
     "data": {
      "text/plain": [
       "array([[      90,     7290,   510300, 11226600],\n",
       "       [       1,       14,     1204,    40936],\n",
       "       [      28,     1260,   112140,  4485600],\n",
       "       [      10,      290,    13920,  1155360],\n",
       "       [      58,     4118,     4118,    12354],\n",
       "       [       6,      252,    16380,  1277640]], dtype=int32)"
      ]
     },
     "execution_count": 56,
     "metadata": {},
     "output_type": "execute_result"
    }
   ],
   "source": [
    "np.cumprod(b,axis=1)"
   ]
  },
  {
   "cell_type": "markdown",
   "id": "c2557013",
   "metadata": {},
   "source": [
    "### np.percentile"
   ]
  },
  {
   "cell_type": "code",
   "execution_count": 57,
   "id": "ec626e15",
   "metadata": {},
   "outputs": [],
   "source": [
    "#function used to compute the nth percentile of the given data (array element) along the specified axis"
   ]
  },
  {
   "cell_type": "code",
   "execution_count": 58,
   "id": "8b87b296",
   "metadata": {},
   "outputs": [
    {
     "data": {
      "text/plain": [
       "array([41, 17, 93, 10, 72,  8, 47, 71, 50, 41])"
      ]
     },
     "execution_count": 58,
     "metadata": {},
     "output_type": "execute_result"
    }
   ],
   "source": [
    "a"
   ]
  },
  {
   "cell_type": "code",
   "execution_count": 60,
   "id": "e51111bd",
   "metadata": {},
   "outputs": [
    {
     "data": {
      "text/plain": [
       "93.0"
      ]
     },
     "execution_count": 60,
     "metadata": {},
     "output_type": "execute_result"
    }
   ],
   "source": [
    "np.percentile(a,100)\n",
    "#100th percentile\n",
    "#max value in an array"
   ]
  },
  {
   "cell_type": "code",
   "execution_count": 61,
   "id": "80394cbb",
   "metadata": {},
   "outputs": [
    {
     "data": {
      "text/plain": [
       "8.0"
      ]
     },
     "execution_count": 61,
     "metadata": {},
     "output_type": "execute_result"
    }
   ],
   "source": [
    "np.percentile(a,0)\n",
    "#50th percentile\n",
    "#min value in an array"
   ]
  },
  {
   "cell_type": "code",
   "execution_count": 63,
   "id": "acc19e4c",
   "metadata": {},
   "outputs": [
    {
     "data": {
      "text/plain": [
       "44.0"
      ]
     },
     "execution_count": 63,
     "metadata": {},
     "output_type": "execute_result"
    }
   ],
   "source": [
    "np.percentile(a,50)\n",
    "#median"
   ]
  },
  {
   "cell_type": "code",
   "execution_count": 65,
   "id": "061d41de",
   "metadata": {},
   "outputs": [],
   "source": [
    "#percentile formula (n/N)*100\n",
    "#where 'n' is number of values below 'x'\n",
    "#where 'N' is total count of population "
   ]
  },
  {
   "cell_type": "markdown",
   "id": "60ceda33",
   "metadata": {},
   "source": [
    "### np.histogram"
   ]
  },
  {
   "cell_type": "code",
   "execution_count": 66,
   "id": "697e26f5",
   "metadata": {},
   "outputs": [],
   "source": [
    "#Function which represents the frequency of data distribution in the graphical form."
   ]
  },
  {
   "cell_type": "code",
   "execution_count": 67,
   "id": "78754e02",
   "metadata": {},
   "outputs": [
    {
     "data": {
      "text/plain": [
       "array([41, 17, 93, 10, 72,  8, 47, 71, 50, 41])"
      ]
     },
     "execution_count": 67,
     "metadata": {},
     "output_type": "execute_result"
    }
   ],
   "source": [
    "a"
   ]
  },
  {
   "cell_type": "code",
   "execution_count": 69,
   "id": "08835c08",
   "metadata": {},
   "outputs": [
    {
     "data": {
      "text/plain": [
       "(array([1, 2, 0, 0, 3, 1, 0, 2, 0, 1], dtype=int64),\n",
       " array([  0,  10,  20,  30,  40,  50,  60,  70,  80,  90, 100]))"
      ]
     },
     "execution_count": 69,
     "metadata": {},
     "output_type": "execute_result"
    }
   ],
   "source": [
    "np.histogram(a,bins=[0,10,20,30,40,50,60,70,80,90,100])"
   ]
  },
  {
   "cell_type": "code",
   "execution_count": null,
   "id": "d81c1fe1",
   "metadata": {},
   "outputs": [],
   "source": [
    "0 t0 10 --> 1 item (8)\n",
    "10 to 20 ---> 2 items (17,10)\n",
    "30 to 40 ---> 0 items"
   ]
  },
  {
   "cell_type": "code",
   "execution_count": 70,
   "id": "fa983978",
   "metadata": {},
   "outputs": [
    {
     "data": {
      "text/plain": [
       "(array([6, 4], dtype=int64), array([  0,  50, 100]))"
      ]
     },
     "execution_count": 70,
     "metadata": {},
     "output_type": "execute_result"
    }
   ],
   "source": [
    "np.histogram(a,bins=[0,50,100])"
   ]
  },
  {
   "cell_type": "markdown",
   "id": "ba63cc38",
   "metadata": {},
   "source": [
    "### np.corrcoef"
   ]
  },
  {
   "cell_type": "code",
   "execution_count": null,
   "id": "537b91e8",
   "metadata": {},
   "outputs": [],
   "source": [
    "#Returns Pearson product-moment correlation coefficient"
   ]
  },
  {
   "cell_type": "code",
   "execution_count": 72,
   "id": "4cd0ba5d",
   "metadata": {},
   "outputs": [
    {
     "data": {
      "text/plain": [
       "array([[1.        , 0.25344572],\n",
       "       [0.25344572, 1.        ]])"
      ]
     },
     "execution_count": 72,
     "metadata": {},
     "output_type": "execute_result"
    }
   ],
   "source": [
    "salary=np.array([20000,40000,25000,35000,60000])\n",
    "experience=np.array([1,3,2,4,2])\n",
    "\n",
    "np.corrcoef(salary,experience)"
   ]
  },
  {
   "cell_type": "markdown",
   "id": "e650ef84",
   "metadata": {},
   "source": [
    "### np.isin"
   ]
  },
  {
   "cell_type": "raw",
   "id": "b5520fc3",
   "metadata": {},
   "source": [
    "we can see that one array having values are checked in a different\n",
    "numpy array having different elements with different sizes"
   ]
  },
  {
   "cell_type": "code",
   "execution_count": 73,
   "id": "50a6a183",
   "metadata": {},
   "outputs": [
    {
     "data": {
      "text/plain": [
       "array([41, 17, 93, 10, 72,  8, 47, 71, 50, 41])"
      ]
     },
     "execution_count": 73,
     "metadata": {},
     "output_type": "execute_result"
    }
   ],
   "source": [
    "a"
   ]
  },
  {
   "cell_type": "code",
   "execution_count": 74,
   "id": "98277446",
   "metadata": {},
   "outputs": [
    {
     "data": {
      "text/plain": [
       "array([False, False, False,  True, False, False, False, False,  True,\n",
       "       False])"
      ]
     },
     "execution_count": 74,
     "metadata": {},
     "output_type": "execute_result"
    }
   ],
   "source": [
    "items=[10,20,30,40,50,60,70,80,90,100]\n",
    "\n",
    "np.isin(a,items)"
   ]
  },
  {
   "cell_type": "code",
   "execution_count": 75,
   "id": "054b3e77",
   "metadata": {},
   "outputs": [
    {
     "data": {
      "text/plain": [
       "array([10, 50])"
      ]
     },
     "execution_count": 75,
     "metadata": {},
     "output_type": "execute_result"
    }
   ],
   "source": [
    "a[np.isin(a,items)]"
   ]
  },
  {
   "cell_type": "markdown",
   "id": "8305e0cf",
   "metadata": {},
   "source": [
    "### np.flip"
   ]
  },
  {
   "cell_type": "raw",
   "id": "08999240",
   "metadata": {},
   "source": [
    "function reverse the order of array elements along the \n",
    "specified axis, preserving the shape of the array"
   ]
  },
  {
   "cell_type": "code",
   "execution_count": 76,
   "id": "8ce8fe6e",
   "metadata": {},
   "outputs": [
    {
     "data": {
      "text/plain": [
       "array([41, 17, 93, 10, 72,  8, 47, 71, 50, 41])"
      ]
     },
     "execution_count": 76,
     "metadata": {},
     "output_type": "execute_result"
    }
   ],
   "source": [
    "a"
   ]
  },
  {
   "cell_type": "code",
   "execution_count": 77,
   "id": "8c564ed0",
   "metadata": {},
   "outputs": [
    {
     "data": {
      "text/plain": [
       "array([41, 50, 71, 47,  8, 72, 10, 93, 17, 41])"
      ]
     },
     "execution_count": 77,
     "metadata": {},
     "output_type": "execute_result"
    }
   ],
   "source": [
    "np.flip(a)"
   ]
  },
  {
   "cell_type": "code",
   "execution_count": 78,
   "id": "095c7d1c",
   "metadata": {},
   "outputs": [
    {
     "data": {
      "text/plain": [
       "array([[90, 81, 70, 22],\n",
       "       [ 1, 14, 86, 34],\n",
       "       [28, 45, 89, 40],\n",
       "       [10, 29, 48, 83],\n",
       "       [58, 71,  1,  3],\n",
       "       [ 6, 42, 65, 78]])"
      ]
     },
     "execution_count": 78,
     "metadata": {},
     "output_type": "execute_result"
    }
   ],
   "source": [
    "b"
   ]
  },
  {
   "cell_type": "code",
   "execution_count": 79,
   "id": "0e6a4c54",
   "metadata": {},
   "outputs": [
    {
     "data": {
      "text/plain": [
       "array([[78, 65, 42,  6],\n",
       "       [ 3,  1, 71, 58],\n",
       "       [83, 48, 29, 10],\n",
       "       [40, 89, 45, 28],\n",
       "       [34, 86, 14,  1],\n",
       "       [22, 70, 81, 90]])"
      ]
     },
     "execution_count": 79,
     "metadata": {},
     "output_type": "execute_result"
    }
   ],
   "source": [
    "np.flip(b)"
   ]
  },
  {
   "cell_type": "code",
   "execution_count": 80,
   "id": "a3da4d10",
   "metadata": {},
   "outputs": [
    {
     "data": {
      "text/plain": [
       "array([[ 6, 42, 65, 78],\n",
       "       [58, 71,  1,  3],\n",
       "       [10, 29, 48, 83],\n",
       "       [28, 45, 89, 40],\n",
       "       [ 1, 14, 86, 34],\n",
       "       [90, 81, 70, 22]])"
      ]
     },
     "execution_count": 80,
     "metadata": {},
     "output_type": "execute_result"
    }
   ],
   "source": [
    "np.flip(b,axis=0)"
   ]
  },
  {
   "cell_type": "code",
   "execution_count": 81,
   "id": "8d3f2246",
   "metadata": {},
   "outputs": [
    {
     "data": {
      "text/plain": [
       "array([[22, 70, 81, 90],\n",
       "       [34, 86, 14,  1],\n",
       "       [40, 89, 45, 28],\n",
       "       [83, 48, 29, 10],\n",
       "       [ 3,  1, 71, 58],\n",
       "       [78, 65, 42,  6]])"
      ]
     },
     "execution_count": 81,
     "metadata": {},
     "output_type": "execute_result"
    }
   ],
   "source": [
    "np.flip(b,axis=1)"
   ]
  },
  {
   "cell_type": "markdown",
   "id": "e44da788",
   "metadata": {},
   "source": [
    "### np.put"
   ]
  },
  {
   "cell_type": "raw",
   "id": "2f0ac2b3",
   "metadata": {},
   "source": [
    "function replaces specific elements of an array with \n",
    "given values of p_array.Array indexed works on flattened array"
   ]
  },
  {
   "cell_type": "code",
   "execution_count": 83,
   "id": "7d6de0d3",
   "metadata": {},
   "outputs": [
    {
     "data": {
      "text/plain": [
       "array([41, 17, 93, 10, 72,  8, 47, 71, 50, 41])"
      ]
     },
     "execution_count": 83,
     "metadata": {},
     "output_type": "execute_result"
    }
   ],
   "source": [
    "a"
   ]
  },
  {
   "cell_type": "code",
   "execution_count": 85,
   "id": "3241f530",
   "metadata": {},
   "outputs": [],
   "source": [
    "np.put(a,[0,1],[410,170])"
   ]
  },
  {
   "cell_type": "code",
   "execution_count": 86,
   "id": "2275b192",
   "metadata": {},
   "outputs": [],
   "source": [
    "#permanent changes "
   ]
  },
  {
   "cell_type": "code",
   "execution_count": 87,
   "id": "696b2115",
   "metadata": {},
   "outputs": [
    {
     "name": "stdout",
     "output_type": "stream",
     "text": [
      "[410 170  93  10  72   8  47  71  50  41]\n"
     ]
    }
   ],
   "source": [
    "print(a)"
   ]
  },
  {
   "cell_type": "markdown",
   "id": "6393af41",
   "metadata": {},
   "source": [
    "### np.delete"
   ]
  },
  {
   "cell_type": "code",
   "execution_count": 88,
   "id": "cb5e4def",
   "metadata": {},
   "outputs": [
    {
     "data": {
      "text/plain": [
       "array([410, 170,  93,  10,  72,   8,  47,  71,  50,  41])"
      ]
     },
     "execution_count": 88,
     "metadata": {},
     "output_type": "execute_result"
    }
   ],
   "source": [
    "a"
   ]
  },
  {
   "cell_type": "code",
   "execution_count": 92,
   "id": "56eda910",
   "metadata": {},
   "outputs": [
    {
     "data": {
      "text/plain": [
       "array([170,  93,  10,  72,   8,  47,  71,  50,  41])"
      ]
     },
     "execution_count": 92,
     "metadata": {},
     "output_type": "execute_result"
    }
   ],
   "source": [
    "np.delete(a,0)"
   ]
  },
  {
   "cell_type": "code",
   "execution_count": 94,
   "id": "3b192625",
   "metadata": {},
   "outputs": [
    {
     "data": {
      "text/plain": [
       "array([10, 72,  8, 47, 71, 50, 41])"
      ]
     },
     "execution_count": 94,
     "metadata": {},
     "output_type": "execute_result"
    }
   ],
   "source": [
    "np.delete(a,[0,1,2])"
   ]
  },
  {
   "cell_type": "code",
   "execution_count": null,
   "id": "2955cc05",
   "metadata": {},
   "outputs": [],
   "source": [
    "#if the output given its temporary\n",
    "#if the output not given its permanent "
   ]
  },
  {
   "cell_type": "markdown",
   "id": "93ad90a7",
   "metadata": {},
   "source": [
    "# set functions"
   ]
  },
  {
   "cell_type": "code",
   "execution_count": 96,
   "id": "48c08ae2",
   "metadata": {},
   "outputs": [],
   "source": [
    "m=np.array([1,2,3,4,5])\n",
    "n=np.array([3,4,5,6,7])"
   ]
  },
  {
   "cell_type": "code",
   "execution_count": 98,
   "id": "488b0773",
   "metadata": {},
   "outputs": [
    {
     "data": {
      "text/plain": [
       "array([1, 2, 3, 4, 5, 6, 7])"
      ]
     },
     "execution_count": 98,
     "metadata": {},
     "output_type": "execute_result"
    }
   ],
   "source": [
    "np.union1d(m,n)"
   ]
  },
  {
   "cell_type": "code",
   "execution_count": 101,
   "id": "7c06d331",
   "metadata": {},
   "outputs": [
    {
     "data": {
      "text/plain": [
       "array([3, 4, 5])"
      ]
     },
     "execution_count": 101,
     "metadata": {},
     "output_type": "execute_result"
    }
   ],
   "source": [
    "np.intersect1d(m,n)"
   ]
  },
  {
   "cell_type": "code",
   "execution_count": 102,
   "id": "61907476",
   "metadata": {},
   "outputs": [
    {
     "data": {
      "text/plain": [
       "array([1, 2])"
      ]
     },
     "execution_count": 102,
     "metadata": {},
     "output_type": "execute_result"
    }
   ],
   "source": [
    "np.setdiff1d(m,n)"
   ]
  },
  {
   "cell_type": "code",
   "execution_count": 103,
   "id": "e1073a78",
   "metadata": {},
   "outputs": [
    {
     "data": {
      "text/plain": [
       "array([6, 7])"
      ]
     },
     "execution_count": 103,
     "metadata": {},
     "output_type": "execute_result"
    }
   ],
   "source": [
    "np.setdiff1d(n,m)"
   ]
  },
  {
   "cell_type": "code",
   "execution_count": 104,
   "id": "4e1c0be1",
   "metadata": {},
   "outputs": [
    {
     "data": {
      "text/plain": [
       "array([1, 2, 6, 7])"
      ]
     },
     "execution_count": 104,
     "metadata": {},
     "output_type": "execute_result"
    }
   ],
   "source": [
    "np.setxor1d(m,n)"
   ]
  },
  {
   "cell_type": "code",
   "execution_count": 105,
   "id": "034a9cc2",
   "metadata": {},
   "outputs": [
    {
     "data": {
      "text/plain": [
       "array([ True, False, False, False, False])"
      ]
     },
     "execution_count": 105,
     "metadata": {},
     "output_type": "execute_result"
    }
   ],
   "source": [
    "np.in1d(m,1)"
   ]
  },
  {
   "cell_type": "code",
   "execution_count": 106,
   "id": "425fee72",
   "metadata": {},
   "outputs": [
    {
     "data": {
      "text/plain": [
       "array([False, False, False, False, False])"
      ]
     },
     "execution_count": 106,
     "metadata": {},
     "output_type": "execute_result"
    }
   ],
   "source": [
    "np.in1d(n,8)"
   ]
  },
  {
   "cell_type": "markdown",
   "id": "2e8e4bef",
   "metadata": {},
   "source": [
    "### np.clip"
   ]
  },
  {
   "cell_type": "raw",
   "id": "8c5e3306",
   "metadata": {},
   "source": [
    "function used to clip(limit) the value in an array"
   ]
  },
  {
   "cell_type": "code",
   "execution_count": 107,
   "id": "4d2e67e9",
   "metadata": {},
   "outputs": [
    {
     "data": {
      "text/plain": [
       "array([410, 170,  93,  10,  72,   8,  47,  71,  50,  41])"
      ]
     },
     "execution_count": 107,
     "metadata": {},
     "output_type": "execute_result"
    }
   ],
   "source": [
    "a"
   ]
  },
  {
   "cell_type": "code",
   "execution_count": 110,
   "id": "386c7703",
   "metadata": {},
   "outputs": [
    {
     "data": {
      "text/plain": [
       "array([75, 75, 75, 25, 72, 25, 47, 71, 50, 41])"
      ]
     },
     "execution_count": 110,
     "metadata": {},
     "output_type": "execute_result"
    }
   ],
   "source": [
    "np.clip(a,a_min=25,a_max=75)"
   ]
  }
 ],
 "metadata": {
  "kernelspec": {
   "display_name": "Python 3 (ipykernel)",
   "language": "python",
   "name": "python3"
  },
  "language_info": {
   "codemirror_mode": {
    "name": "ipython",
    "version": 3
   },
   "file_extension": ".py",
   "mimetype": "text/x-python",
   "name": "python",
   "nbconvert_exporter": "python",
   "pygments_lexer": "ipython3",
   "version": "3.9.13"
  }
 },
 "nbformat": 4,
 "nbformat_minor": 5
}
